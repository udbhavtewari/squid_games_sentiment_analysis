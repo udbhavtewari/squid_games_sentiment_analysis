{
 "cells": [
  {
   "cell_type": "code",
   "execution_count": 2,
   "metadata": {},
   "outputs": [],
   "source": [
    "#importing all the necessary libraries \n",
    "\n",
    "import pandas as pd\n",
    "import requests \n",
    "from bs4 import BeautifulSoup\n",
    "import numpy as np"
   ]
  },
  {
   "cell_type": "code",
   "execution_count": 3,
   "metadata": {},
   "outputs": [],
   "source": [
    "#importing selenium for automation\n",
    "\n",
    "from selenium import webdriver\n",
    "driver = webdriver.Chrome('/Users/manjul/chromedriver')#(ChromeDriverManager().install())\n",
    "url = 'https://www.imdb.com/title/tt10919420/reviews?spoiler=hide&sort=reviewVolume&dir=desc&ratingFilter=0'\n",
    "driver.get(url)\n",
    "\n",
    "#driver.implicily_wait(10)"
   ]
  },
  {
   "cell_type": "code",
   "execution_count": 4,
   "metadata": {},
   "outputs": [],
   "source": [
    "#creating empty lists to store the data\n",
    "list_of_review_title = []\n",
    "list_of_ratings = []  \n",
    "list_of_dates = []"
   ]
  },
  {
   "cell_type": "code",
   "execution_count": 5,
   "metadata": {},
   "outputs": [],
   "source": [
    "#code for extracting reviews from every page. \n",
    "\n",
    "page = 1\n",
    "while page < 50 :\n",
    "\n",
    "        review_list= driver.find_elements_by_class_name('lister-item-content')\n",
    "        \n",
    "        #iterating each element to get the ratings & reviews\n",
    "        for elements in review_list :\n",
    "\n",
    "            #finding the reviews\n",
    "            user_review_title = elements.find_element_by_tag_name('a').text\n",
    "            #finding the raatings\n",
    "            user_rating = elements.find_element_by_tag_name('span').text\n",
    "            #finding the review date\n",
    "            user_review_date = elements.find_element_by_class_name('review-date').text\n",
    "\n",
    "\n",
    "            #appending the review to the list\n",
    "            list_of_review_title.append(user_review_title)\n",
    "            #appending the rating to the list\n",
    "            list_of_ratings.append(user_rating)\n",
    "            #appending the dates to the list\n",
    "            list_of_dates.append(user_review_date)\n",
    "\n",
    "            try :\n",
    "                #Since IMBD only displays 25 reviews, we need to click on 'load more' to get more data\n",
    "                driver.find_element_by_class_name('ipl-load-more__button').click()\n",
    "                page+=1\n",
    "\n",
    "            except :\n",
    "                continue"
   ]
  },
  {
   "cell_type": "code",
   "execution_count": 6,
   "metadata": {},
   "outputs": [],
   "source": [
    "#creating a dataframe for analysis\n",
    "df = pd.DataFrame(list(zip(list_of_review_title,list_of_ratings,list_of_dates)),\n",
    "               columns =['Reviews', 'Ratings','Date'])"
   ]
  },
  {
   "cell_type": "code",
   "execution_count": 7,
   "metadata": {},
   "outputs": [
    {
     "data": {
      "text/html": [
       "<div>\n",
       "<style scoped>\n",
       "    .dataframe tbody tr th:only-of-type {\n",
       "        vertical-align: middle;\n",
       "    }\n",
       "\n",
       "    .dataframe tbody tr th {\n",
       "        vertical-align: top;\n",
       "    }\n",
       "\n",
       "    .dataframe thead th {\n",
       "        text-align: right;\n",
       "    }\n",
       "</style>\n",
       "<table border=\"1\" class=\"dataframe\">\n",
       "  <thead>\n",
       "    <tr style=\"text-align: right;\">\n",
       "      <th></th>\n",
       "      <th>Reviews</th>\n",
       "      <th>Ratings</th>\n",
       "      <th>Date</th>\n",
       "    </tr>\n",
       "  </thead>\n",
       "  <tbody>\n",
       "    <tr>\n",
       "      <th>0</th>\n",
       "      <td>Just a game</td>\n",
       "      <td>9/10</td>\n",
       "      <td>10 October 2021</td>\n",
       "    </tr>\n",
       "    <tr>\n",
       "      <th>1</th>\n",
       "      <td>trust me, you have never seen anything like this</td>\n",
       "      <td>10/10</td>\n",
       "      <td>1 November 2021</td>\n",
       "    </tr>\n",
       "    <tr>\n",
       "      <th>2</th>\n",
       "      <td>Violent funny atypical K drama</td>\n",
       "      <td>8/10</td>\n",
       "      <td>6 November 2021</td>\n",
       "    </tr>\n",
       "    <tr>\n",
       "      <th>3</th>\n",
       "      <td>if you think this is good, PLEASE watch the ko...</td>\n",
       "      <td>5/10</td>\n",
       "      <td>9 October 2021</td>\n",
       "    </tr>\n",
       "    <tr>\n",
       "      <th>4</th>\n",
       "      <td>8</td>\n",
       "      <td>8/10</td>\n",
       "      <td>4 October 2021</td>\n",
       "    </tr>\n",
       "    <tr>\n",
       "      <th>...</th>\n",
       "      <td>...</td>\n",
       "      <td>...</td>\n",
       "      <td>...</td>\n",
       "    </tr>\n",
       "    <tr>\n",
       "      <th>1595</th>\n",
       "      <td>Almost perfect</td>\n",
       "      <td>9/10</td>\n",
       "      <td>4 October 2021</td>\n",
       "    </tr>\n",
       "    <tr>\n",
       "      <th>1596</th>\n",
       "      <td>Uncut gems meets parasite meets eyes wide shut...</td>\n",
       "      <td>9/10</td>\n",
       "      <td>22 September 2021</td>\n",
       "    </tr>\n",
       "    <tr>\n",
       "      <th>1597</th>\n",
       "      <td>Be wise. Don't even consider this trash.</td>\n",
       "      <td>1/10</td>\n",
       "      <td>18 October 2021</td>\n",
       "    </tr>\n",
       "    <tr>\n",
       "      <th>1598</th>\n",
       "      <td>literally almost perfect</td>\n",
       "      <td>9/10</td>\n",
       "      <td>1 October 2021</td>\n",
       "    </tr>\n",
       "    <tr>\n",
       "      <th>1599</th>\n",
       "      <td>Enough with these psycho ideas</td>\n",
       "      <td>1/10</td>\n",
       "      <td>11 October 2021</td>\n",
       "    </tr>\n",
       "  </tbody>\n",
       "</table>\n",
       "<p>1600 rows × 3 columns</p>\n",
       "</div>"
      ],
      "text/plain": [
       "                                                Reviews Ratings  \\\n",
       "0                                           Just a game    9/10   \n",
       "1      trust me, you have never seen anything like this   10/10   \n",
       "2                        Violent funny atypical K drama    8/10   \n",
       "3     if you think this is good, PLEASE watch the ko...    5/10   \n",
       "4                                                     8    8/10   \n",
       "...                                                 ...     ...   \n",
       "1595                                     Almost perfect    9/10   \n",
       "1596  Uncut gems meets parasite meets eyes wide shut...    9/10   \n",
       "1597           Be wise. Don't even consider this trash.    1/10   \n",
       "1598                           literally almost perfect    9/10   \n",
       "1599                     Enough with these psycho ideas    1/10   \n",
       "\n",
       "                   Date  \n",
       "0       10 October 2021  \n",
       "1       1 November 2021  \n",
       "2       6 November 2021  \n",
       "3        9 October 2021  \n",
       "4        4 October 2021  \n",
       "...                 ...  \n",
       "1595     4 October 2021  \n",
       "1596  22 September 2021  \n",
       "1597    18 October 2021  \n",
       "1598     1 October 2021  \n",
       "1599    11 October 2021  \n",
       "\n",
       "[1600 rows x 3 columns]"
      ]
     },
     "execution_count": 7,
     "metadata": {},
     "output_type": "execute_result"
    }
   ],
   "source": [
    "df"
   ]
  },
  {
   "cell_type": "code",
   "execution_count": null,
   "metadata": {},
   "outputs": [],
   "source": [
    "#downloading the dataset \n",
    "#df.to_excel(\"~/Desktop/Squid_games_dataset.xlsx\")"
   ]
  },
  {
   "cell_type": "markdown",
   "metadata": {},
   "source": [
    "# Data cleaning & preparation "
   ]
  },
  {
   "cell_type": "code",
   "execution_count": 8,
   "metadata": {},
   "outputs": [],
   "source": [
    "# get the unique values (rows)\n",
    "newdf = df.drop_duplicates()"
   ]
  },
  {
   "cell_type": "code",
   "execution_count": 13,
   "metadata": {},
   "outputs": [],
   "source": [
    "#downloading the dataset \n",
    "newdf.to_excel(\"~/Desktop/Squid_games_dataset_latest.xlsx\")"
   ]
  },
  {
   "cell_type": "code",
   "execution_count": 9,
   "metadata": {},
   "outputs": [
    {
     "data": {
      "text/html": [
       "<div>\n",
       "<style scoped>\n",
       "    .dataframe tbody tr th:only-of-type {\n",
       "        vertical-align: middle;\n",
       "    }\n",
       "\n",
       "    .dataframe tbody tr th {\n",
       "        vertical-align: top;\n",
       "    }\n",
       "\n",
       "    .dataframe thead th {\n",
       "        text-align: right;\n",
       "    }\n",
       "</style>\n",
       "<table border=\"1\" class=\"dataframe\">\n",
       "  <thead>\n",
       "    <tr style=\"text-align: right;\">\n",
       "      <th></th>\n",
       "      <th>Reviews</th>\n",
       "      <th>Ratings</th>\n",
       "      <th>Date</th>\n",
       "    </tr>\n",
       "  </thead>\n",
       "  <tbody>\n",
       "    <tr>\n",
       "      <th>0</th>\n",
       "      <td>Just a game</td>\n",
       "      <td>9/10</td>\n",
       "      <td>10 October 2021</td>\n",
       "    </tr>\n",
       "    <tr>\n",
       "      <th>1</th>\n",
       "      <td>trust me, you have never seen anything like this</td>\n",
       "      <td>10/10</td>\n",
       "      <td>1 November 2021</td>\n",
       "    </tr>\n",
       "    <tr>\n",
       "      <th>2</th>\n",
       "      <td>Violent funny atypical K drama</td>\n",
       "      <td>8/10</td>\n",
       "      <td>6 November 2021</td>\n",
       "    </tr>\n",
       "    <tr>\n",
       "      <th>3</th>\n",
       "      <td>if you think this is good, PLEASE watch the ko...</td>\n",
       "      <td>5/10</td>\n",
       "      <td>9 October 2021</td>\n",
       "    </tr>\n",
       "    <tr>\n",
       "      <th>4</th>\n",
       "      <td>8</td>\n",
       "      <td>8/10</td>\n",
       "      <td>4 October 2021</td>\n",
       "    </tr>\n",
       "    <tr>\n",
       "      <th>...</th>\n",
       "      <td>...</td>\n",
       "      <td>...</td>\n",
       "      <td>...</td>\n",
       "    </tr>\n",
       "    <tr>\n",
       "      <th>1595</th>\n",
       "      <td>Almost perfect</td>\n",
       "      <td>9/10</td>\n",
       "      <td>4 October 2021</td>\n",
       "    </tr>\n",
       "    <tr>\n",
       "      <th>1596</th>\n",
       "      <td>Uncut gems meets parasite meets eyes wide shut...</td>\n",
       "      <td>9/10</td>\n",
       "      <td>22 September 2021</td>\n",
       "    </tr>\n",
       "    <tr>\n",
       "      <th>1597</th>\n",
       "      <td>Be wise. Don't even consider this trash.</td>\n",
       "      <td>1/10</td>\n",
       "      <td>18 October 2021</td>\n",
       "    </tr>\n",
       "    <tr>\n",
       "      <th>1598</th>\n",
       "      <td>literally almost perfect</td>\n",
       "      <td>9/10</td>\n",
       "      <td>1 October 2021</td>\n",
       "    </tr>\n",
       "    <tr>\n",
       "      <th>1599</th>\n",
       "      <td>Enough with these psycho ideas</td>\n",
       "      <td>1/10</td>\n",
       "      <td>11 October 2021</td>\n",
       "    </tr>\n",
       "  </tbody>\n",
       "</table>\n",
       "<p>1200 rows × 3 columns</p>\n",
       "</div>"
      ],
      "text/plain": [
       "                                                Reviews Ratings  \\\n",
       "0                                           Just a game    9/10   \n",
       "1      trust me, you have never seen anything like this   10/10   \n",
       "2                        Violent funny atypical K drama    8/10   \n",
       "3     if you think this is good, PLEASE watch the ko...    5/10   \n",
       "4                                                     8    8/10   \n",
       "...                                                 ...     ...   \n",
       "1595                                     Almost perfect    9/10   \n",
       "1596  Uncut gems meets parasite meets eyes wide shut...    9/10   \n",
       "1597           Be wise. Don't even consider this trash.    1/10   \n",
       "1598                           literally almost perfect    9/10   \n",
       "1599                     Enough with these psycho ideas    1/10   \n",
       "\n",
       "                   Date  \n",
       "0       10 October 2021  \n",
       "1       1 November 2021  \n",
       "2       6 November 2021  \n",
       "3        9 October 2021  \n",
       "4        4 October 2021  \n",
       "...                 ...  \n",
       "1595     4 October 2021  \n",
       "1596  22 September 2021  \n",
       "1597    18 October 2021  \n",
       "1598     1 October 2021  \n",
       "1599    11 October 2021  \n",
       "\n",
       "[1200 rows x 3 columns]"
      ]
     },
     "execution_count": 9,
     "metadata": {},
     "output_type": "execute_result"
    }
   ],
   "source": [
    "newdf"
   ]
  },
  {
   "cell_type": "code",
   "execution_count": 10,
   "metadata": {},
   "outputs": [
    {
     "name": "stdout",
     "output_type": "stream",
     "text": [
      "                                             Reviews          Ratings  \\\n",
      "0                                        Just a game             9/10   \n",
      "1   trust me, you have never seen anything like this            10/10   \n",
      "2                     Violent funny atypical K drama             8/10   \n",
      "3  if you think this is good, PLEASE watch the ko...             5/10   \n",
      "4                                                  8             8/10   \n",
      "5                                Overrated, But Good             8/10   \n",
      "6                  Good concept and solid excecution             8/10   \n",
      "7            10th time. All Father give me strength.             1/10   \n",
      "8                                        Good enough             7/10   \n",
      "9        🦑🎮 Not close to perfect, but still amazing.  Top_Dawg_Critic   \n",
      "\n",
      "               Date  \n",
      "0   10 October 2021  \n",
      "1   1 November 2021  \n",
      "2   6 November 2021  \n",
      "3    9 October 2021  \n",
      "4    4 October 2021  \n",
      "5  11 November 2021  \n",
      "6   5 November 2021  \n",
      "7   30 October 2021  \n",
      "8   30 October 2021  \n",
      "9    3 October 2021  \n",
      "                                             Reviews          Ratings  \\\n",
      "0                                        Just a game             9/10   \n",
      "1   trust me, you have never seen anything like this            10/10   \n",
      "2                     Violent funny atypical K drama             8/10   \n",
      "3  if you think this is good, PLEASE watch the ko...             5/10   \n",
      "4                                                  8             8/10   \n",
      "5                                Overrated, But Good             8/10   \n",
      "6                  Good concept and solid excecution             8/10   \n",
      "7            10th time. All Father give me strength.             1/10   \n",
      "8                                        Good enough             7/10   \n",
      "9        🦑🎮 Not close to perfect, but still amazing.  Top_Dawg_Critic   \n",
      "\n",
      "               Date  \n",
      "0   10 October 2021  \n",
      "1   1 November 2021  \n",
      "2   6 November 2021  \n",
      "3    9 October 2021  \n",
      "4    4 October 2021  \n",
      "5  11 November 2021  \n",
      "6   5 November 2021  \n",
      "7   30 October 2021  \n",
      "8   30 October 2021  \n",
      "9    3 October 2021  \n"
     ]
    }
   ],
   "source": [
    "print(df.head(10))\n",
    "print(newdf.head(10))"
   ]
  },
  {
   "cell_type": "code",
   "execution_count": 11,
   "metadata": {},
   "outputs": [
    {
     "name": "stdout",
     "output_type": "stream",
     "text": [
      "Data type of each column of Dataframe :\n",
      "Reviews    object\n",
      "Ratings    object\n",
      "Date       object\n",
      "dtype: object\n"
     ]
    }
   ],
   "source": [
    "dataTypeSeries = newdf.dtypes\n",
    "print('Data type of each column of Dataframe :')\n",
    "print(dataTypeSeries)"
   ]
  },
  {
   "cell_type": "code",
   "execution_count": 203,
   "metadata": {},
   "outputs": [],
   "source": [
    "#remove rows which have non numeric datatype. Got the indexes from Excel.\n",
    "newdf = newdf.drop([9,240,258,272,297,382,810,819,921,1046,1052,1070,1283,1327])\n",
    "\n",
    "\n",
    "#remove /10 from ratings column & convert ratings datatype into numeric. \n",
    "newdf[\"Ratings\"] = newdf[\"Ratings\"].str.replace('/10', '').astype(int) \n"
   ]
  },
  {
   "cell_type": "code",
   "execution_count": 47,
   "metadata": {},
   "outputs": [
    {
     "name": "stdout",
     "output_type": "stream",
     "text": [
      "Data type of each column of Dataframe :\n",
      "Reviews    object\n",
      "Ratings     int64\n",
      "Date       object\n",
      "dtype: object\n"
     ]
    }
   ],
   "source": [
    "#checking the datatype after conversion\n",
    "dataTypeSeries = newdf.dtypes\n",
    "print('Data type of each column of Dataframe :')\n",
    "print(dataTypeSeries)"
   ]
  },
  {
   "cell_type": "code",
   "execution_count": null,
   "metadata": {},
   "outputs": [],
   "source": [
    "# Questions to ask : \n",
    "\n",
    "# What's the distribution of ratings?\n",
    "\n",
    "# What are the lower, middle, and upper quartiles?\n",
    "\n",
    "# What are the 1st and 9th deciles?\n",
    "\n",
    "# What are the common words associated with the highly negative reviews and the highly positive reviews?"
   ]
  },
  {
   "cell_type": "markdown",
   "metadata": {},
   "source": [
    "# Data visualisation "
   ]
  },
  {
   "cell_type": "code",
   "execution_count": 49,
   "metadata": {},
   "outputs": [
    {
     "data": {
      "image/png": "[encoded data removed]",
      "text/plain": [
       "<Figure size 432x288 with 1 Axes>"
      ]
     },
     "metadata": {
      "needs_background": "light"
     },
     "output_type": "display_data"
    }
   ],
   "source": [
    "#Using matplot library\n",
    "\n",
    "import matplotlib.pyplot as plt \n",
    "\n",
    "plt.hist(newdf['Ratings'])\n",
    "\n",
    "plt.xlabel('Ratings')\n",
    "\n",
    "plt.ylabel('Frequency')\n",
    "\n",
    "plt.title('Histogram of User Rating')\n",
    "\n",
    "plt.show()\n"
   ]
  },
  {
   "cell_type": "code",
   "execution_count": 52,
   "metadata": {},
   "outputs": [
    {
     "data": {
      "image/png": "[encoded data removed]",
      "text/plain": [
       "<Figure size 432x288 with 1 Axes>"
      ]
     },
     "metadata": {
      "needs_background": "light"
     },
     "output_type": "display_data"
    }
   ],
   "source": [
    "#Using seaborn library\n",
    "\n",
    "import seaborn as sns\n",
    "\n",
    "sns.distplot(newdf['Ratings'])\n",
    "\n",
    "plt.title('Histogram of User Rating')\n",
    "\n",
    "plt.ylabel('Frequency')\n",
    "\n",
    "plt.xlabel('Ratings')\n",
    "\n",
    "plt.show()"
   ]
  },
  {
   "cell_type": "code",
   "execution_count": 51,
   "metadata": {},
   "outputs": [
    {
     "data": {
      "text/html": [
       "<div>\n",
       "<style scoped>\n",
       "    .dataframe tbody tr th:only-of-type {\n",
       "        vertical-align: middle;\n",
       "    }\n",
       "\n",
       "    .dataframe tbody tr th {\n",
       "        vertical-align: top;\n",
       "    }\n",
       "\n",
       "    .dataframe thead th {\n",
       "        text-align: right;\n",
       "    }\n",
       "</style>\n",
       "<table border=\"1\" class=\"dataframe\">\n",
       "  <thead>\n",
       "    <tr style=\"text-align: right;\">\n",
       "      <th></th>\n",
       "      <th>Ratings</th>\n",
       "    </tr>\n",
       "  </thead>\n",
       "  <tbody>\n",
       "    <tr>\n",
       "      <th>count</th>\n",
       "      <td>1186.000000</td>\n",
       "    </tr>\n",
       "    <tr>\n",
       "      <th>mean</th>\n",
       "      <td>7.231872</td>\n",
       "    </tr>\n",
       "    <tr>\n",
       "      <th>std</th>\n",
       "      <td>2.682847</td>\n",
       "    </tr>\n",
       "    <tr>\n",
       "      <th>min</th>\n",
       "      <td>1.000000</td>\n",
       "    </tr>\n",
       "    <tr>\n",
       "      <th>25%</th>\n",
       "      <td>6.000000</td>\n",
       "    </tr>\n",
       "    <tr>\n",
       "      <th>50%</th>\n",
       "      <td>8.000000</td>\n",
       "    </tr>\n",
       "    <tr>\n",
       "      <th>75%</th>\n",
       "      <td>9.000000</td>\n",
       "    </tr>\n",
       "    <tr>\n",
       "      <th>max</th>\n",
       "      <td>10.000000</td>\n",
       "    </tr>\n",
       "  </tbody>\n",
       "</table>\n",
       "</div>"
      ],
      "text/plain": [
       "           Ratings\n",
       "count  1186.000000\n",
       "mean      7.231872\n",
       "std       2.682847\n",
       "min       1.000000\n",
       "25%       6.000000\n",
       "50%       8.000000\n",
       "75%       9.000000\n",
       "max      10.000000"
      ]
     },
     "execution_count": 51,
     "metadata": {},
     "output_type": "execute_result"
    }
   ],
   "source": [
    "#descriptive stats about the data \n",
    "newdf.describe()"
   ]
  },
  {
   "cell_type": "code",
   "execution_count": 179,
   "metadata": {},
   "outputs": [
    {
     "name": "stdout",
     "output_type": "stream",
     "text": [
      "<class 'pandas.core.frame.DataFrame'>\n",
      "Int64Index: 1186 entries, 0 to 1599\n",
      "Data columns (total 3 columns):\n",
      " #   Column   Non-Null Count  Dtype \n",
      "---  ------   --------------  ----- \n",
      " 0   Reviews  1186 non-null   object\n",
      " 1   Ratings  1186 non-null   int64 \n",
      " 2   Date     1186 non-null   object\n",
      "dtypes: int64(1), object(2)\n",
      "memory usage: 77.1+ KB\n"
     ]
    }
   ],
   "source": [
    "newdf.info()"
   ]
  },
  {
   "cell_type": "markdown",
   "metadata": {},
   "source": [
    "# Sentiment Analysis"
   ]
  },
  {
   "cell_type": "code",
   "execution_count": 211,
   "metadata": {},
   "outputs": [
    {
     "data": {
      "text/plain": [
       "Sentiment(polarity=-0.15555555555555559, subjectivity=0.2888888888888889)"
      ]
     },
     "execution_count": 211,
     "metadata": {},
     "output_type": "execute_result"
    }
   ],
   "source": [
    "from textblob import TextBlob #library for sentiment analysis\n",
    "import re #library for regex functions - cleaning \n",
    "\n",
    "x = \"#1 show, hands down...\"\n",
    "gg = TextBlob(x)\n",
    "gg.sentiment"
   ]
  },
  {
   "cell_type": "code",
   "execution_count": 218,
   "metadata": {},
   "outputs": [
    {
     "data": {
      "text/html": [
       "<div>\n",
       "<style scoped>\n",
       "    .dataframe tbody tr th:only-of-type {\n",
       "        vertical-align: middle;\n",
       "    }\n",
       "\n",
       "    .dataframe tbody tr th {\n",
       "        vertical-align: top;\n",
       "    }\n",
       "\n",
       "    .dataframe thead th {\n",
       "        text-align: right;\n",
       "    }\n",
       "</style>\n",
       "<table border=\"1\" class=\"dataframe\">\n",
       "  <thead>\n",
       "    <tr style=\"text-align: right;\">\n",
       "      <th></th>\n",
       "      <th>Reviews</th>\n",
       "      <th>Ratings</th>\n",
       "      <th>Date</th>\n",
       "    </tr>\n",
       "  </thead>\n",
       "  <tbody>\n",
       "    <tr>\n",
       "      <th>0</th>\n",
       "      <td>just a game</td>\n",
       "      <td>9</td>\n",
       "      <td>10 October 2021</td>\n",
       "    </tr>\n",
       "    <tr>\n",
       "      <th>1</th>\n",
       "      <td>trust me, you have never seen anything like this</td>\n",
       "      <td>10</td>\n",
       "      <td>1 November 2021</td>\n",
       "    </tr>\n",
       "    <tr>\n",
       "      <th>2</th>\n",
       "      <td>violent funny atypical k drama</td>\n",
       "      <td>8</td>\n",
       "      <td>6 November 2021</td>\n",
       "    </tr>\n",
       "    <tr>\n",
       "      <th>3</th>\n",
       "      <td>if you think this is good, please watch the ko...</td>\n",
       "      <td>5</td>\n",
       "      <td>9 October 2021</td>\n",
       "    </tr>\n",
       "    <tr>\n",
       "      <th>4</th>\n",
       "      <td>8</td>\n",
       "      <td>8</td>\n",
       "      <td>4 October 2021</td>\n",
       "    </tr>\n",
       "    <tr>\n",
       "      <th>...</th>\n",
       "      <td>...</td>\n",
       "      <td>...</td>\n",
       "      <td>...</td>\n",
       "    </tr>\n",
       "    <tr>\n",
       "      <th>1595</th>\n",
       "      <td>almost perfect</td>\n",
       "      <td>9</td>\n",
       "      <td>4 October 2021</td>\n",
       "    </tr>\n",
       "    <tr>\n",
       "      <th>1596</th>\n",
       "      <td>uncut gems meets parasite meets eyes wide shut...</td>\n",
       "      <td>9</td>\n",
       "      <td>22 September 2021</td>\n",
       "    </tr>\n",
       "    <tr>\n",
       "      <th>1597</th>\n",
       "      <td>be wise. don't even consider this trash.</td>\n",
       "      <td>1</td>\n",
       "      <td>18 October 2021</td>\n",
       "    </tr>\n",
       "    <tr>\n",
       "      <th>1598</th>\n",
       "      <td>literally almost perfect</td>\n",
       "      <td>9</td>\n",
       "      <td>1 October 2021</td>\n",
       "    </tr>\n",
       "    <tr>\n",
       "      <th>1599</th>\n",
       "      <td>enough with these psycho ideas</td>\n",
       "      <td>1</td>\n",
       "      <td>11 October 2021</td>\n",
       "    </tr>\n",
       "  </tbody>\n",
       "</table>\n",
       "<p>1186 rows × 3 columns</p>\n",
       "</div>"
      ],
      "text/plain": [
       "                                                Reviews  Ratings  \\\n",
       "0                                           just a game        9   \n",
       "1      trust me, you have never seen anything like this       10   \n",
       "2                        violent funny atypical k drama        8   \n",
       "3     if you think this is good, please watch the ko...        5   \n",
       "4                                                     8        8   \n",
       "...                                                 ...      ...   \n",
       "1595                                     almost perfect        9   \n",
       "1596  uncut gems meets parasite meets eyes wide shut...        9   \n",
       "1597           be wise. don't even consider this trash.        1   \n",
       "1598                           literally almost perfect        9   \n",
       "1599                     enough with these psycho ideas        1   \n",
       "\n",
       "                   Date  \n",
       "0       10 October 2021  \n",
       "1       1 November 2021  \n",
       "2       6 November 2021  \n",
       "3        9 October 2021  \n",
       "4        4 October 2021  \n",
       "...                 ...  \n",
       "1595     4 October 2021  \n",
       "1596  22 September 2021  \n",
       "1597    18 October 2021  \n",
       "1598     1 October 2021  \n",
       "1599    11 October 2021  \n",
       "\n",
       "[1186 rows x 3 columns]"
      ]
     },
     "execution_count": 218,
     "metadata": {},
     "output_type": "execute_result"
    }
   ],
   "source": [
    "#newdf[\"Reviews\"] = newdf[\"Reviews\"].str.lower() #lowering the case\n",
    "\n",
    "#creating a function to clean the reviews\n",
    "\n",
    "def clean_emoji (string) : \n",
    "    \n",
    "    \n",
    "    emoji_pattern = re.compile(\"[\"\n",
    "        u\"\\U0001F600-\\U0001F64F\"  # emoticons\n",
    "        u\"\\U0001F300-\\U0001F5FF\"  # symbols & pictographs\n",
    "        u\"\\U0001F680-\\U0001F6FF\"  # transport & map symbols\n",
    "        u\"\\U0001F1E0-\\U0001F1FF\"  # flags (iOS)\n",
    "                           \"]+\", flags=re.UNICODE)\n",
    "    #text = re.sub(r'[\\.]+','',text) #removing all punctuation except exclamation marks\n",
    "    #text = re.sub(r'!{2,}','!','',text) #replacing 2 or more exclamation marks with a single one\n",
    "\n",
    "    \n",
    "    \n",
    "    return emoji_pattern.sub(r'', string) # no emoji\n",
    "\n",
    "#cleaning the reviews\n",
    "newdf['Reviews'] = newdf['Reviews'].apply(clean_emoji)\n",
    "\n",
    "#showing the clean reviews\n",
    "newdf"
   ]
  },
  {
   "cell_type": "code",
   "execution_count": 241,
   "metadata": {},
   "outputs": [],
   "source": [
    "newdf['Reviews'] = newdf['Reviews'].str.replace(r\"[^\\w\\s]\",\"\") #removing all punctuations"
   ]
  },
  {
   "cell_type": "code",
   "execution_count": 242,
   "metadata": {},
   "outputs": [
    {
     "data": {
      "text/html": [
       "<div>\n",
       "<style scoped>\n",
       "    .dataframe tbody tr th:only-of-type {\n",
       "        vertical-align: middle;\n",
       "    }\n",
       "\n",
       "    .dataframe tbody tr th {\n",
       "        vertical-align: top;\n",
       "    }\n",
       "\n",
       "    .dataframe thead th {\n",
       "        text-align: right;\n",
       "    }\n",
       "</style>\n",
       "<table border=\"1\" class=\"dataframe\">\n",
       "  <thead>\n",
       "    <tr style=\"text-align: right;\">\n",
       "      <th></th>\n",
       "      <th>Reviews</th>\n",
       "      <th>Ratings</th>\n",
       "      <th>Date</th>\n",
       "    </tr>\n",
       "  </thead>\n",
       "  <tbody>\n",
       "    <tr>\n",
       "      <th>0</th>\n",
       "      <td>just a game</td>\n",
       "      <td>9</td>\n",
       "      <td>10 October 2021</td>\n",
       "    </tr>\n",
       "    <tr>\n",
       "      <th>1</th>\n",
       "      <td>trust me you have never seen anything like this</td>\n",
       "      <td>10</td>\n",
       "      <td>1 November 2021</td>\n",
       "    </tr>\n",
       "    <tr>\n",
       "      <th>2</th>\n",
       "      <td>violent funny atypical k drama</td>\n",
       "      <td>8</td>\n",
       "      <td>6 November 2021</td>\n",
       "    </tr>\n",
       "    <tr>\n",
       "      <th>3</th>\n",
       "      <td>if you think this is good please watch the kor...</td>\n",
       "      <td>5</td>\n",
       "      <td>9 October 2021</td>\n",
       "    </tr>\n",
       "    <tr>\n",
       "      <th>4</th>\n",
       "      <td>8</td>\n",
       "      <td>8</td>\n",
       "      <td>4 October 2021</td>\n",
       "    </tr>\n",
       "    <tr>\n",
       "      <th>...</th>\n",
       "      <td>...</td>\n",
       "      <td>...</td>\n",
       "      <td>...</td>\n",
       "    </tr>\n",
       "    <tr>\n",
       "      <th>1595</th>\n",
       "      <td>almost perfect</td>\n",
       "      <td>9</td>\n",
       "      <td>4 October 2021</td>\n",
       "    </tr>\n",
       "    <tr>\n",
       "      <th>1596</th>\n",
       "      <td>uncut gems meets parasite meets eyes wide shut...</td>\n",
       "      <td>9</td>\n",
       "      <td>22 September 2021</td>\n",
       "    </tr>\n",
       "    <tr>\n",
       "      <th>1597</th>\n",
       "      <td>be wise dont even consider this trash</td>\n",
       "      <td>1</td>\n",
       "      <td>18 October 2021</td>\n",
       "    </tr>\n",
       "    <tr>\n",
       "      <th>1598</th>\n",
       "      <td>literally almost perfect</td>\n",
       "      <td>9</td>\n",
       "      <td>1 October 2021</td>\n",
       "    </tr>\n",
       "    <tr>\n",
       "      <th>1599</th>\n",
       "      <td>enough with these psycho ideas</td>\n",
       "      <td>1</td>\n",
       "      <td>11 October 2021</td>\n",
       "    </tr>\n",
       "  </tbody>\n",
       "</table>\n",
       "<p>1186 rows × 3 columns</p>\n",
       "</div>"
      ],
      "text/plain": [
       "                                                Reviews  Ratings  \\\n",
       "0                                           just a game        9   \n",
       "1       trust me you have never seen anything like this       10   \n",
       "2                        violent funny atypical k drama        8   \n",
       "3     if you think this is good please watch the kor...        5   \n",
       "4                                                     8        8   \n",
       "...                                                 ...      ...   \n",
       "1595                                     almost perfect        9   \n",
       "1596  uncut gems meets parasite meets eyes wide shut...        9   \n",
       "1597              be wise dont even consider this trash        1   \n",
       "1598                           literally almost perfect        9   \n",
       "1599                     enough with these psycho ideas        1   \n",
       "\n",
       "                   Date  \n",
       "0       10 October 2021  \n",
       "1       1 November 2021  \n",
       "2       6 November 2021  \n",
       "3        9 October 2021  \n",
       "4        4 October 2021  \n",
       "...                 ...  \n",
       "1595     4 October 2021  \n",
       "1596  22 September 2021  \n",
       "1597    18 October 2021  \n",
       "1598     1 October 2021  \n",
       "1599    11 October 2021  \n",
       "\n",
       "[1186 rows x 3 columns]"
      ]
     },
     "execution_count": 242,
     "metadata": {},
     "output_type": "execute_result"
    }
   ],
   "source": [
    "#cleaned reviews part II \n",
    "newdf"
   ]
  },
  {
   "cell_type": "code",
   "execution_count": 247,
   "metadata": {},
   "outputs": [],
   "source": [
    "#Create a function to get the polarity\n",
    "def getSubjectivity(text):\n",
    "    return TextBlob(text).sentiment.subjectivity\n",
    "  \n",
    "#Create a function to get the polarity\n",
    "def getPolarity(text):\n",
    "    return TextBlob(text).sentiment.polarity\n",
    "  \n",
    "#Create two new columns ‘Subjectivity’ & ‘Polarity’\n",
    "newdf['Subjectivity'] = newdf['Reviews'].apply(getSubjectivity)\n",
    "newdf['Polarity'] = newdf['Reviews'].apply(getPolarity)"
   ]
  },
  {
   "cell_type": "code",
   "execution_count": 248,
   "metadata": {},
   "outputs": [
    {
     "data": {
      "text/html": [
       "<div>\n",
       "<style scoped>\n",
       "    .dataframe tbody tr th:only-of-type {\n",
       "        vertical-align: middle;\n",
       "    }\n",
       "\n",
       "    .dataframe tbody tr th {\n",
       "        vertical-align: top;\n",
       "    }\n",
       "\n",
       "    .dataframe thead th {\n",
       "        text-align: right;\n",
       "    }\n",
       "</style>\n",
       "<table border=\"1\" class=\"dataframe\">\n",
       "  <thead>\n",
       "    <tr style=\"text-align: right;\">\n",
       "      <th></th>\n",
       "      <th>Reviews</th>\n",
       "      <th>Ratings</th>\n",
       "      <th>Date</th>\n",
       "      <th>Subjectivity</th>\n",
       "      <th>Polarity</th>\n",
       "    </tr>\n",
       "  </thead>\n",
       "  <tbody>\n",
       "    <tr>\n",
       "      <th>0</th>\n",
       "      <td>just a game</td>\n",
       "      <td>9</td>\n",
       "      <td>10 October 2021</td>\n",
       "      <td>0.400000</td>\n",
       "      <td>-0.400000</td>\n",
       "    </tr>\n",
       "    <tr>\n",
       "      <th>1</th>\n",
       "      <td>trust me you have never seen anything like this</td>\n",
       "      <td>10</td>\n",
       "      <td>1 November 2021</td>\n",
       "      <td>0.000000</td>\n",
       "      <td>0.000000</td>\n",
       "    </tr>\n",
       "    <tr>\n",
       "      <th>2</th>\n",
       "      <td>violent funny atypical k drama</td>\n",
       "      <td>8</td>\n",
       "      <td>6 November 2021</td>\n",
       "      <td>0.733333</td>\n",
       "      <td>-0.183333</td>\n",
       "    </tr>\n",
       "    <tr>\n",
       "      <th>3</th>\n",
       "      <td>if you think this is good please watch the kor...</td>\n",
       "      <td>5</td>\n",
       "      <td>9 October 2021</td>\n",
       "      <td>0.600000</td>\n",
       "      <td>0.700000</td>\n",
       "    </tr>\n",
       "    <tr>\n",
       "      <th>4</th>\n",
       "      <td>8</td>\n",
       "      <td>8</td>\n",
       "      <td>4 October 2021</td>\n",
       "      <td>0.000000</td>\n",
       "      <td>0.000000</td>\n",
       "    </tr>\n",
       "    <tr>\n",
       "      <th>...</th>\n",
       "      <td>...</td>\n",
       "      <td>...</td>\n",
       "      <td>...</td>\n",
       "      <td>...</td>\n",
       "      <td>...</td>\n",
       "    </tr>\n",
       "    <tr>\n",
       "      <th>1595</th>\n",
       "      <td>almost perfect</td>\n",
       "      <td>9</td>\n",
       "      <td>4 October 2021</td>\n",
       "      <td>1.000000</td>\n",
       "      <td>1.000000</td>\n",
       "    </tr>\n",
       "    <tr>\n",
       "      <th>1596</th>\n",
       "      <td>uncut gems meets parasite meets eyes wide shut...</td>\n",
       "      <td>9</td>\n",
       "      <td>22 September 2021</td>\n",
       "      <td>0.600000</td>\n",
       "      <td>-0.300000</td>\n",
       "    </tr>\n",
       "    <tr>\n",
       "      <th>1597</th>\n",
       "      <td>be wise dont even consider this trash</td>\n",
       "      <td>1</td>\n",
       "      <td>18 October 2021</td>\n",
       "      <td>0.900000</td>\n",
       "      <td>0.700000</td>\n",
       "    </tr>\n",
       "    <tr>\n",
       "      <th>1598</th>\n",
       "      <td>literally almost perfect</td>\n",
       "      <td>9</td>\n",
       "      <td>1 October 2021</td>\n",
       "      <td>1.000000</td>\n",
       "      <td>1.000000</td>\n",
       "    </tr>\n",
       "    <tr>\n",
       "      <th>1599</th>\n",
       "      <td>enough with these psycho ideas</td>\n",
       "      <td>1</td>\n",
       "      <td>11 October 2021</td>\n",
       "      <td>0.500000</td>\n",
       "      <td>0.000000</td>\n",
       "    </tr>\n",
       "  </tbody>\n",
       "</table>\n",
       "<p>1186 rows × 5 columns</p>\n",
       "</div>"
      ],
      "text/plain": [
       "                                                Reviews  Ratings  \\\n",
       "0                                           just a game        9   \n",
       "1       trust me you have never seen anything like this       10   \n",
       "2                        violent funny atypical k drama        8   \n",
       "3     if you think this is good please watch the kor...        5   \n",
       "4                                                     8        8   \n",
       "...                                                 ...      ...   \n",
       "1595                                     almost perfect        9   \n",
       "1596  uncut gems meets parasite meets eyes wide shut...        9   \n",
       "1597              be wise dont even consider this trash        1   \n",
       "1598                           literally almost perfect        9   \n",
       "1599                     enough with these psycho ideas        1   \n",
       "\n",
       "                   Date  Subjectivity  Polarity  \n",
       "0       10 October 2021      0.400000 -0.400000  \n",
       "1       1 November 2021      0.000000  0.000000  \n",
       "2       6 November 2021      0.733333 -0.183333  \n",
       "3        9 October 2021      0.600000  0.700000  \n",
       "4        4 October 2021      0.000000  0.000000  \n",
       "...                 ...           ...       ...  \n",
       "1595     4 October 2021      1.000000  1.000000  \n",
       "1596  22 September 2021      0.600000 -0.300000  \n",
       "1597    18 October 2021      0.900000  0.700000  \n",
       "1598     1 October 2021      1.000000  1.000000  \n",
       "1599    11 October 2021      0.500000  0.000000  \n",
       "\n",
       "[1186 rows x 5 columns]"
      ]
     },
     "execution_count": 248,
     "metadata": {},
     "output_type": "execute_result"
    }
   ],
   "source": [
    "newdf"
   ]
  },
  {
   "cell_type": "code",
   "execution_count": 254,
   "metadata": {},
   "outputs": [
    {
     "data": {
      "image/png": "[encoded data removed]",
      "text/plain": [
       "<Figure size 432x288 with 1 Axes>"
      ]
     },
     "metadata": {
      "needs_background": "light"
     },
     "output_type": "display_data"
    }
   ],
   "source": [
    "#making a word cloud \n",
    "\n",
    "from wordcloud import WordCloud, STOPWORDS\n",
    "\n",
    "# Create stopword list:\n",
    "stopwords = set(STOPWORDS)\n",
    "stopwords.update(['show','series'])\n",
    "\n",
    "# Generate a word cloud image\n",
    "text = \" \".join(review for review in newdf['Reviews'])\n",
    "wordcloud = WordCloud(stopwords=stopwords, background_color=\"white\").generate(text)\n",
    "\n",
    "# Display the generated image:\n",
    "# the matplotlib way:\n",
    "plt.imshow(wordcloud, interpolation='bilinear')\n",
    "plt.axis(\"off\")\n",
    "plt.show()"
   ]
  },
  {
   "cell_type": "code",
   "execution_count": 257,
   "metadata": {},
   "outputs": [
    {
     "data": {
      "text/html": [
       "<div>\n",
       "<style scoped>\n",
       "    .dataframe tbody tr th:only-of-type {\n",
       "        vertical-align: middle;\n",
       "    }\n",
       "\n",
       "    .dataframe tbody tr th {\n",
       "        vertical-align: top;\n",
       "    }\n",
       "\n",
       "    .dataframe thead th {\n",
       "        text-align: right;\n",
       "    }\n",
       "</style>\n",
       "<table border=\"1\" class=\"dataframe\">\n",
       "  <thead>\n",
       "    <tr style=\"text-align: right;\">\n",
       "      <th></th>\n",
       "      <th>Reviews</th>\n",
       "      <th>Ratings</th>\n",
       "      <th>Date</th>\n",
       "      <th>Subjectivity</th>\n",
       "      <th>Polarity</th>\n",
       "      <th>Analysis</th>\n",
       "    </tr>\n",
       "  </thead>\n",
       "  <tbody>\n",
       "    <tr>\n",
       "      <th>0</th>\n",
       "      <td>just a game</td>\n",
       "      <td>9</td>\n",
       "      <td>10 October 2021</td>\n",
       "      <td>0.400000</td>\n",
       "      <td>-0.400000</td>\n",
       "      <td>Negative</td>\n",
       "    </tr>\n",
       "    <tr>\n",
       "      <th>1</th>\n",
       "      <td>trust me you have never seen anything like this</td>\n",
       "      <td>10</td>\n",
       "      <td>1 November 2021</td>\n",
       "      <td>0.000000</td>\n",
       "      <td>0.000000</td>\n",
       "      <td>Neutral</td>\n",
       "    </tr>\n",
       "    <tr>\n",
       "      <th>2</th>\n",
       "      <td>violent funny atypical k drama</td>\n",
       "      <td>8</td>\n",
       "      <td>6 November 2021</td>\n",
       "      <td>0.733333</td>\n",
       "      <td>-0.183333</td>\n",
       "      <td>Negative</td>\n",
       "    </tr>\n",
       "    <tr>\n",
       "      <th>3</th>\n",
       "      <td>if you think this is good please watch the kor...</td>\n",
       "      <td>5</td>\n",
       "      <td>9 October 2021</td>\n",
       "      <td>0.600000</td>\n",
       "      <td>0.700000</td>\n",
       "      <td>Positive</td>\n",
       "    </tr>\n",
       "    <tr>\n",
       "      <th>4</th>\n",
       "      <td>8</td>\n",
       "      <td>8</td>\n",
       "      <td>4 October 2021</td>\n",
       "      <td>0.000000</td>\n",
       "      <td>0.000000</td>\n",
       "      <td>Neutral</td>\n",
       "    </tr>\n",
       "    <tr>\n",
       "      <th>...</th>\n",
       "      <td>...</td>\n",
       "      <td>...</td>\n",
       "      <td>...</td>\n",
       "      <td>...</td>\n",
       "      <td>...</td>\n",
       "      <td>...</td>\n",
       "    </tr>\n",
       "    <tr>\n",
       "      <th>1595</th>\n",
       "      <td>almost perfect</td>\n",
       "      <td>9</td>\n",
       "      <td>4 October 2021</td>\n",
       "      <td>1.000000</td>\n",
       "      <td>1.000000</td>\n",
       "      <td>Positive</td>\n",
       "    </tr>\n",
       "    <tr>\n",
       "      <th>1596</th>\n",
       "      <td>uncut gems meets parasite meets eyes wide shut...</td>\n",
       "      <td>9</td>\n",
       "      <td>22 September 2021</td>\n",
       "      <td>0.600000</td>\n",
       "      <td>-0.300000</td>\n",
       "      <td>Negative</td>\n",
       "    </tr>\n",
       "    <tr>\n",
       "      <th>1597</th>\n",
       "      <td>be wise dont even consider this trash</td>\n",
       "      <td>1</td>\n",
       "      <td>18 October 2021</td>\n",
       "      <td>0.900000</td>\n",
       "      <td>0.700000</td>\n",
       "      <td>Positive</td>\n",
       "    </tr>\n",
       "    <tr>\n",
       "      <th>1598</th>\n",
       "      <td>literally almost perfect</td>\n",
       "      <td>9</td>\n",
       "      <td>1 October 2021</td>\n",
       "      <td>1.000000</td>\n",
       "      <td>1.000000</td>\n",
       "      <td>Positive</td>\n",
       "    </tr>\n",
       "    <tr>\n",
       "      <th>1599</th>\n",
       "      <td>enough with these psycho ideas</td>\n",
       "      <td>1</td>\n",
       "      <td>11 October 2021</td>\n",
       "      <td>0.500000</td>\n",
       "      <td>0.000000</td>\n",
       "      <td>Neutral</td>\n",
       "    </tr>\n",
       "  </tbody>\n",
       "</table>\n",
       "<p>1186 rows × 6 columns</p>\n",
       "</div>"
      ],
      "text/plain": [
       "                                                Reviews  Ratings  \\\n",
       "0                                           just a game        9   \n",
       "1       trust me you have never seen anything like this       10   \n",
       "2                        violent funny atypical k drama        8   \n",
       "3     if you think this is good please watch the kor...        5   \n",
       "4                                                     8        8   \n",
       "...                                                 ...      ...   \n",
       "1595                                     almost perfect        9   \n",
       "1596  uncut gems meets parasite meets eyes wide shut...        9   \n",
       "1597              be wise dont even consider this trash        1   \n",
       "1598                           literally almost perfect        9   \n",
       "1599                     enough with these psycho ideas        1   \n",
       "\n",
       "                   Date  Subjectivity  Polarity  Analysis  \n",
       "0       10 October 2021      0.400000 -0.400000  Negative  \n",
       "1       1 November 2021      0.000000  0.000000   Neutral  \n",
       "2       6 November 2021      0.733333 -0.183333  Negative  \n",
       "3        9 October 2021      0.600000  0.700000  Positive  \n",
       "4        4 October 2021      0.000000  0.000000   Neutral  \n",
       "...                 ...           ...       ...       ...  \n",
       "1595     4 October 2021      1.000000  1.000000  Positive  \n",
       "1596  22 September 2021      0.600000 -0.300000  Negative  \n",
       "1597    18 October 2021      0.900000  0.700000  Positive  \n",
       "1598     1 October 2021      1.000000  1.000000  Positive  \n",
       "1599    11 October 2021      0.500000  0.000000   Neutral  \n",
       "\n",
       "[1186 rows x 6 columns]"
      ]
     },
     "execution_count": 257,
     "metadata": {},
     "output_type": "execute_result"
    }
   ],
   "source": [
    "#function to mark polarity as positive,negative or neutral\n",
    "\n",
    "def getAnalysis(score) : \n",
    "    if score < 0 :\n",
    "        return 'Negative'\n",
    "    elif score == 0 :\n",
    "        return 'Neutral'\n",
    "    else :\n",
    "        return 'Positive'\n",
    "    \n",
    "newdf['Analysis'] = newdf['Polarity'].apply(getAnalysis)\n",
    "\n",
    "#show the result\n",
    "newdf"
   ]
  },
  {
   "cell_type": "code",
   "execution_count": 283,
   "metadata": {},
   "outputs": [
    {
     "data": {
      "text/plain": [
       "Text(0, 0.5, 'Subjectivity')"
      ]
     },
     "execution_count": 283,
     "metadata": {},
     "output_type": "execute_result"
    },
    {
     "data": {
      "image/png": "[encoded data removed]",
      "text/plain": [
       "<Figure size 576x432 with 1 Axes>"
      ]
     },
     "metadata": {
      "needs_background": "light"
     },
     "output_type": "display_data"
    }
   ],
   "source": [
    "#plotting Polarity vs Subjectivity scatter plot\n",
    "\n",
    "plt.figure(figsize=(8,6))\n",
    "plt.scatter(newdf['Polarity'],newdf['Subjectivity'],color = 'red')\n",
    "plt.title('Plot of Polarity vs Subjectivity', fontsize = 12, fontweight ='bold')\n",
    "plt.xlabel(\"Polarity\")\n",
    "plt.ylabel(\"Subjectivity\")\n",
    "plt.show()"
   ]
  },
  {
   "cell_type": "markdown",
   "metadata": {},
   "source": [
    "## Checking the % of positive, negative & neutral reviews"
   ]
  },
  {
   "cell_type": "code",
   "execution_count": 312,
   "metadata": {},
   "outputs": [
    {
     "name": "stdout",
     "output_type": "stream",
     "text": [
      "The % of positive reviews is : 50.17\n"
     ]
    }
   ],
   "source": [
    "#for positive\n",
    "pos_reviews = newdf[newdf.Analysis == 'Positive']\n",
    "pos_reviews = pos_reviews['Reviews']\n",
    "\n",
    "print (\"The % of positive reviews is : \" + (str (round ((pos_reviews.shape[0]/newdf.shape[0]) * 100,2))))"
   ]
  },
  {
   "cell_type": "code",
   "execution_count": 313,
   "metadata": {},
   "outputs": [
    {
     "name": "stdout",
     "output_type": "stream",
     "text": [
      "The % of negative reviews is : 19.22\n"
     ]
    }
   ],
   "source": [
    "#for negative\n",
    "neg_reviews = newdf[newdf.Analysis == 'Negative']\n",
    "neg_reviews = neg_reviews['Reviews']\n",
    "\n",
    "print (\"The % of negative reviews is : \" + (str (round ((neg_reviews.shape[0]/newdf.shape[0]) * 100,2))))"
   ]
  },
  {
   "cell_type": "code",
   "execution_count": 314,
   "metadata": {},
   "outputs": [
    {
     "name": "stdout",
     "output_type": "stream",
     "text": [
      "The % of neutral reviews is : 30.61\n"
     ]
    }
   ],
   "source": [
    "#for neutral\n",
    "neu_reviews = newdf[newdf.Analysis == 'Neutral']\n",
    "neu_reviews = neu_reviews['Reviews']\n",
    "\n",
    "print (\"The % of neutral reviews is : \" + (str (round ((neu_reviews.shape[0]/newdf.shape[0]) * 100,2))))"
   ]
  },
  {
   "cell_type": "code",
   "execution_count": 323,
   "metadata": {},
   "outputs": [
    {
     "data": {
      "image/png": "[encoded data removed]",
      "text/plain": [
       "<Figure size 432x288 with 1 Axes>"
      ]
     },
     "metadata": {
      "needs_background": "light"
     },
     "output_type": "display_data"
    }
   ],
   "source": [
    "rev_counts = newdf['Analysis'].value_counts()\n",
    "\n",
    "plt.title('Plot of review polarity')\n",
    "plt.xlabel(\"Polarity\")\n",
    "plt.ylabel(\"Total counts\")\n",
    "rev_counts.plot(kind='bar')\n",
    "plt.show()"
   ]
  },
  {
   "cell_type": "markdown",
   "metadata": {},
   "source": [
    "## Conclusion\n",
    "- The overall reviews were mostly inclined towards the upper end of the rating scale (8-10) as seen from the histogram\n",
    "- The word cloud suggested that positive words (great,good,best) were largely associated with the user reviews\n",
    "- Majority of the viewers (50%) loved the show but a considerable portion of viewers (30%) remained neutral as per the analysis"
   ]
  },
  {
   "cell_type": "code",
   "execution_count": null,
   "metadata": {},
   "outputs": [],
   "source": []
  }
 ],
 "metadata": {
  "kernelspec": {
   "display_name": "Python 3",
   "language": "python",
   "name": "python3"
  },
  "language_info": {
   "codemirror_mode": {
    "name": "ipython",
    "version": 3
   },
   "file_extension": ".py",
   "mimetype": "text/x-python",
   "name": "python",
   "nbconvert_exporter": "python",
   "pygments_lexer": "ipython3",
   "version": "3.7.6"
  }
 },
 "nbformat": 4,
 "nbformat_minor": 4
}
